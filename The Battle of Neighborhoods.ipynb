{
 "cells": [
  {
   "cell_type": "markdown",
   "metadata": {
    "collapsed": true
   },
   "source": [
    "# Introduction/Business Problem\n",
    "\n",
    "    A business owner of several stores in New York City is looking to expand into other cities.\n",
    "    After some consideration he has chosen Toronto as one of the cities to expand into, however he \n",
    "    does not know much about different areas of Toronto. We must cluster neighborhoods of both \n",
    "    New York and Toronto to determine what neighborhoods in Toronoto are similar to neighborhoods \n",
    "    that a store in currently located in in New York, then Decide the best candidates for the new\n",
    "    store.\n"
   ]
  },
  {
   "cell_type": "markdown",
   "metadata": {},
   "source": [
    "# Data\n",
    "\n",
    "    For this project we will use the Foursquare API location data on New York and Toronto. \n",
    "    Foursquares API allows us to find venues and their attributes such as rating, type of venue,\n",
    "    and address from location Data. We will use the API to determine what types of venues are \n",
    "    in each neighborhood, then use that data to perform k-means clustering. k-means clustering\n",
    "    will cluster unlabeled data into n clusters where each observation belongs to the cluster\n",
    "    with the closest mean"
   ]
  },
  {
   "cell_type": "code",
   "execution_count": null,
   "metadata": {},
   "outputs": [],
   "source": []
  }
 ],
 "metadata": {
  "kernelspec": {
   "display_name": "Python 3.6",
   "language": "python",
   "name": "python3"
  },
  "language_info": {
   "codemirror_mode": {
    "name": "ipython",
    "version": 3
   },
   "file_extension": ".py",
   "mimetype": "text/x-python",
   "name": "python",
   "nbconvert_exporter": "python",
   "pygments_lexer": "ipython3",
   "version": "3.6.9"
  }
 },
 "nbformat": 4,
 "nbformat_minor": 1
}
